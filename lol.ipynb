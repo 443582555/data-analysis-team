{
 "cells": [
  {
   "cell_type": "code",
   "execution_count": 1,
   "metadata": {},
   "outputs": [],
   "source": [
    "import numpy as np # linear algebra\n",
    "import pandas as pd # data processing, CSV file I/O (e.g. pd.read_csv)\n",
    "from subprocess import check_output\n",
    "import sys\n",
    "import csv\n",
    "#####\n",
    "folderAddress = \"input\"\n",
    "#####\n",
    "\n",
    "info = pd.read_csv(folderAddress + \"/sku_info.csv\")\n",
    "\n",
    "# # info 1000 rows x 5 columns id:0-999\n",
    "attr = pd.read_csv(folderAddress + \"/sku_attr.csv\")\n",
    "# # attr  6776 rows x 3 columns\n",
    "sales = pd.read_csv(folderAddress + \"/sku_sales.csv\")\n",
    "# # sales 2127485 rows x 7 columns\n",
    "prom = pd.read_csv(folderAddress + \"/sku_prom.csv\")\n",
    "\n",
    "def loadCsv(address):\n",
    "    with open(address) as csvDataFile:\n",
    "        info=[]\n",
    "        csvReader = csv.reader(csvDataFile)\n",
    "        for row in csvReader:\n",
    "            info.append(row)\n",
    "    return info[1:]"
   ]
  },
  {
   "cell_type": "code",
   "execution_count": null,
   "metadata": {},
   "outputs": [],
   "source": []
  },
  {
   "cell_type": "code",
   "execution_count": 2,
   "metadata": {},
   "outputs": [],
   "source": [
    "\n",
    "# InfoAttrSales.loc[(InfoAttrSales['item_sku_id'] == 1) & (InfoAttrSales['dc_id'] ==1)]"
   ]
  },
  {
   "cell_type": "code",
   "execution_count": 3,
   "metadata": {},
   "outputs": [],
   "source": [
    "# sales.loc[(sales['item_sku_id'] == 4) & (sales['dc_id'] ==1)]\n",
    "def deleteCol(a,num):\n",
    "    for row in a :\n",
    "        del row[num]\n",
    "    return a"
   ]
  },
  {
   "cell_type": "code",
   "execution_count": 4,
   "metadata": {},
   "outputs": [],
   "source": [
    "# sales.groupby(['item_sku_id','dc_id'])"
   ]
  },
  {
   "cell_type": "code",
   "execution_count": 5,
   "metadata": {},
   "outputs": [],
   "source": [
    "id_brand_cat_map = {}\n",
    "thirdcat_id_map ={}\n",
    "info=[]\n",
    "attr=[]\n",
    "sales=[]\n",
    "prom=[]\n",
    "info = loadCsv(folderAddress + \"/sku_info.csv\")\n",
    "#delete first and second catagory\n",
    "info = deleteCol(info,1)\n",
    "info = deleteCol(info,1)\n",
    "\n",
    "attr = loadCsv(folderAddress + \"/sku_attr.csv\")\n",
    "sales =  loadCsv(folderAddress + \"/sku_sales.csv\")\n",
    "prom = loadCsv(folderAddress + \"/sku_prom.csv\")\n"
   ]
  },
  {
   "cell_type": "code",
   "execution_count": null,
   "metadata": {},
   "outputs": [],
   "source": []
  },
  {
   "cell_type": "code",
   "execution_count": 6,
   "metadata": {},
   "outputs": [],
   "source": [
    "id_brand_cat_map={}\n",
    "for i in info:\n",
    "    id_brand_cat_map[i[0]]=[i[1],i[2]]\n",
    "    if not i[1] in thirdcat_id_map:\n",
    "        thirdcat_id_map[i[1]] = [i[0]]\n",
    "    else:\n",
    "        thirdcat_id_map[i[1]].extend([i[0]])"
   ]
  },
  {
   "cell_type": "code",
   "execution_count": null,
   "metadata": {},
   "outputs": [],
   "source": []
  },
  {
   "cell_type": "code",
   "execution_count": 7,
   "metadata": {},
   "outputs": [],
   "source": [
    "id_feature_map={}\n",
    "for i in attr:\n",
    "    if not i[0] in id_feature_map:\n",
    "        id_feature_map[i[0]]=id_brand_cat_map[i[0]]\n",
    "        id_feature_map[i[0]].extend(i[2])\n",
    "    else:\n",
    "        id_feature_map[i[0]].extend([i[2]])"
   ]
  },
  {
   "cell_type": "code",
   "execution_count": 8,
   "metadata": {},
   "outputs": [
    {
     "data": {
      "text/plain": [
       "['298', '158', '2', '4', '3', '6']"
      ]
     },
     "execution_count": 8,
     "metadata": {},
     "output_type": "execute_result"
    }
   ],
   "source": [
    "id_brand_cat_map['2']"
   ]
  },
  {
   "cell_type": "code",
   "execution_count": 9,
   "metadata": {},
   "outputs": [
    {
     "data": {
      "text/plain": [
       "['145', '70', '4', '3', '3', '1263', '1263', '1263']"
      ]
     },
     "execution_count": 9,
     "metadata": {},
     "output_type": "execute_result"
    }
   ],
   "source": [
    "id_feature_map['4']"
   ]
  },
  {
   "cell_type": "code",
   "execution_count": 10,
   "metadata": {},
   "outputs": [],
   "source": [
    "id_date_prom = {}\n",
    "for i in prom:\n",
    "    if i[1]=='-999':\n",
    "        m_id = thirdcat_id_map[i[2]]\n",
    "    else:\n",
    "        m_id = [i[1]]\n",
    "\n",
    "    for j in m_id:\n",
    "        if j in id_date_prom:\n",
    "            if isinstance(id_date_prom[j],dict):\n",
    "                id_date_prom[j]['prom'].append(i[0])\n",
    "                id_date_prom[j]['cat'].append(i[3])\n",
    "            else:\n",
    "                id_date_prom[j]={}\n",
    "                id_date_prom[j]['prom'] = [i[0]]\n",
    "                id_date_prom[j]['cat'] = [i[3]]\n",
    "        else:\n",
    "            id_date_prom[j]={}\n",
    "            id_date_prom[j]['prom'] = [i[0]]\n",
    "            id_date_prom[j]['cat'] = [i[3]]\n",
    "            #print (\"i[3]\")\n",
    "            \n",
    "    "
   ]
  },
  {
   "cell_type": "code",
   "execution_count": 11,
   "metadata": {},
   "outputs": [],
   "source": [
    "\n",
    "salesMap = {}\n",
    "for i in sales:\n",
    "    m_id = i[0]\n",
    "    dc_id = i[1]\n",
    "    date = i[2]\n",
    "    quantity = i[3]\n",
    "    originalPrice = i[-2]\n",
    "    discount = i[-1]\n",
    "    if not (m_id,dc_id) in salesMap:\n",
    "        salesMap[(m_id,dc_id)] = {}\n",
    "        #if not salesMap[(m_id,dc_id)]['originalPrice']:\n",
    "        salesMap[(m_id,dc_id)]['originalPrice'] = originalPrice\n",
    "        #if not salesMap[(m_id,dc_id)]['discount']:\n",
    "        salesMap[(m_id,dc_id)]['discount'] = discount\n",
    "        salesMap[(m_id,dc_id)]['saledate'] = [date]\n",
    "        salesMap[(m_id,dc_id)]['quantity'] = [quantity]\n",
    "        salesMap[(m_id,dc_id)]['feature'] = id_feature_map[m_id]\n",
    "        if m_id in id_date_prom:\n",
    "            salesMap[(m_id,dc_id)]['promotion'] = id_date_prom[m_id]['prom']\n",
    "            salesMap[(m_id,dc_id)]['prom_cat'] = id_date_prom[m_id]['cat']\n",
    "        else:\n",
    "            salesMap[(m_id,dc_id)]['promotion']=[]\n",
    "            salesMap[(m_id,dc_id)]['prom_cat']=[]\n",
    "        \n",
    "        #salesMap[(m_id,dc_id)]['prom_cat'] = id_date_prom[m_id]['cat']\n",
    "        \n",
    "    else:\n",
    "        if not salesMap[(m_id,dc_id)]['originalPrice']:\n",
    "            salesMap[(m_id,dc_id)]['originalPrice'] = originalPrice\n",
    "        if not salesMap[(m_id,dc_id)]['discount']:\n",
    "            salesMap[(m_id,dc_id)]['discount'] = discount\n",
    "        salesMap[(m_id,dc_id)]['saledate'].extend([date])\n",
    "        salesMap[(m_id,dc_id)]['quantity'].extend([quantity])\n"
   ]
  },
  {
   "cell_type": "code",
   "execution_count": 13,
   "metadata": {},
   "outputs": [
    {
     "data": {
      "text/plain": [
       "{'discount': '10.0',\n",
       " 'feature': ['366',\n",
       "  '198',\n",
       "  '1',\n",
       "  '5',\n",
       "  '2',\n",
       "  '3',\n",
       "  '148',\n",
       "  '1433',\n",
       "  '1528',\n",
       "  '1525',\n",
       "  '1524'],\n",
       " 'originalPrice': '0.124890611326',\n",
       " 'prom_cat': ['10', '10', '10', '10', '10', '10', '10'],\n",
       " 'promotion': ['2017/12/25',\n",
       "  '2017/12/26',\n",
       "  '2017/12/27',\n",
       "  '2017/12/28',\n",
       "  '2017/12/29',\n",
       "  '2017/12/30',\n",
       "  '2017/12/31'],\n",
       " 'quantity': ['0.0',\n",
       "  '0.0',\n",
       "  '0.0',\n",
       "  '0.0',\n",
       "  '0.0',\n",
       "  '0.0',\n",
       "  '46.0',\n",
       "  '9.0',\n",
       "  '0.0',\n",
       "  '1.0',\n",
       "  '0.0',\n",
       "  '0.0'],\n",
       " 'saledate': ['2017-12-24',\n",
       "  '2017-12-22',\n",
       "  '2017-12-27',\n",
       "  '2017-12-29',\n",
       "  '2017-12-26',\n",
       "  '2017-12-31',\n",
       "  '2017-12-20',\n",
       "  '2017-12-21',\n",
       "  '2017-12-30',\n",
       "  '2017-12-25',\n",
       "  '2017-12-23',\n",
       "  '2017-12-28']}"
      ]
     },
     "execution_count": 13,
     "metadata": {},
     "output_type": "execute_result"
    }
   ],
   "source": [
    "salesMap[('1','1')]"
   ]
  },
  {
   "cell_type": "code",
   "execution_count": null,
   "metadata": {},
   "outputs": [],
   "source": []
  },
  {
   "cell_type": "code",
   "execution_count": null,
   "metadata": {},
   "outputs": [],
   "source": []
  },
  {
   "cell_type": "code",
   "execution_count": null,
   "metadata": {},
   "outputs": [],
   "source": []
  }
 ],
 "metadata": {
  "kernelspec": {
   "display_name": "Python 3",
   "language": "python",
   "name": "python3"
  },
  "language_info": {
   "codemirror_mode": {
    "name": "ipython",
    "version": 3
   },
   "file_extension": ".py",
   "mimetype": "text/x-python",
   "name": "python",
   "nbconvert_exporter": "python",
   "pygments_lexer": "ipython3",
   "version": "3.6.1"
  }
 },
 "nbformat": 4,
 "nbformat_minor": 2
}
