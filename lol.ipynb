{
 "cells": [
  {
   "cell_type": "code",
   "execution_count": 22,
   "metadata": {},
   "outputs": [],
   "source": [
    "import numpy as np # linear algebra\n",
    "import pandas as pd # data processing, CSV file I/O (e.g. pd.read_csv)\n",
    "from subprocess import check_output\n",
    "import sys\n",
    "import csv\n",
    "#####\n",
    "folderAddress = \"input\"\n",
    "#####\n",
    "\n",
    "info = pd.read_csv(folderAddress + \"/sku_info.csv\")\n",
    "\n",
    "# # info 1000 rows x 5 columns id:0-999\n",
    "attr = pd.read_csv(folderAddress + \"/sku_attr.csv\")\n",
    "# # attr  6776 rows x 3 columns\n",
    "# sales = pd.read_csv(folderAddress + \"/sku_sales.csv\")\n",
    "# # sales 2127485 rows x 7 columns\n",
    "prom = pd.read_csv(folderAddress + \"/sku_prom.csv\")\n",
    "\n",
    "def loadCsv(address):\n",
    "    with open(address) as csvDataFile:\n",
    "        info=[]\n",
    "        csvReader = csv.reader(csvDataFile)\n",
    "        for row in csvReader:\n",
    "            info.append(row)\n",
    "    return info[1:]"
   ]
  },
  {
   "cell_type": "code",
   "execution_count": 24,
   "metadata": {},
   "outputs": [],
   "source": []
  },
  {
   "cell_type": "code",
   "execution_count": 3,
   "metadata": {},
   "outputs": [],
   "source": [
    "\n",
    "# InfoAttrSales.loc[(InfoAttrSales['item_sku_id'] == 1) & (InfoAttrSales['dc_id'] ==1)]"
   ]
  },
  {
   "cell_type": "code",
   "execution_count": 4,
   "metadata": {},
   "outputs": [],
   "source": [
    "# sales.loc[(sales['item_sku_id'] == 4) & (sales['dc_id'] ==1)]\n",
    "def deleteCol(a,num):\n",
    "    for row in a :\n",
    "        del row[num]\n",
    "    return a"
   ]
  },
  {
   "cell_type": "code",
   "execution_count": 5,
   "metadata": {},
   "outputs": [],
   "source": [
    "# sales.groupby(['item_sku_id','dc_id'])"
   ]
  },
  {
   "cell_type": "code",
   "execution_count": 28,
   "metadata": {},
   "outputs": [],
   "source": [
    "id_brand_cat_map = {}\n",
    "thirdcat_id_map ={}\n",
    "info=[]\n",
    "attr=[]\n",
    "sales=[]\n",
    "prom=[]\n",
    "info = loadCsv(folderAddress + \"/sku_info.csv\")\n",
    "#delete first and second catagory\n",
    "info = deleteCol(info,1)\n",
    "info = deleteCol(info,1)\n",
    "\n",
    "attr = loadCsv(folderAddress + \"/sku_attr.csv\")\n",
    "sales =  loadCsv(folderAddress + \"/sku_sales.csv\")\n",
    "prom = loadCsv(folderAddress + \"/sku_prom.csv\")\n"
   ]
  },
  {
   "cell_type": "code",
   "execution_count": null,
   "metadata": {},
   "outputs": [],
   "source": []
  },
  {
   "cell_type": "code",
   "execution_count": 29,
   "metadata": {},
   "outputs": [],
   "source": [
    "for i in info:\n",
    "    id_brand_cat_map[i[0]]=(i[1],i[2])\n",
    "    if not i[1] in thirdcat_id_map:\n",
    "        thirdcat_id_map[i[1]] = [i[0]]\n",
    "    else:\n",
    "        thirdcat_id_map[i[1]].extend([i[0]])"
   ]
  },
  {
   "cell_type": "code",
   "execution_count": 30,
   "metadata": {},
   "outputs": [],
   "source": [
    "id_feature_map={}\n",
    "for i in attr:\n",
    "    if not i[0] in id_feature_map:\n",
    "        id_feature_map[i[0]]=[i[2]]\n",
    "    else:\n",
    "        id_feature_map[i[0]].extend([i[2]])"
   ]
  },
  {
   "cell_type": "code",
   "execution_count": 39,
   "metadata": {},
   "outputs": [
    {
     "data": {
      "text/plain": [
       "['357', '450', '958', '963']"
      ]
     },
     "execution_count": 39,
     "metadata": {},
     "output_type": "execute_result"
    }
   ],
   "source": [
    "thirdcat_id_map[i[2]]"
   ]
  },
  {
   "cell_type": "code",
   "execution_count": 53,
   "metadata": {},
   "outputs": [],
   "source": []
  },
  {
   "cell_type": "code",
   "execution_count": 55,
   "metadata": {},
   "outputs": [],
   "source": [
    "id_date_prom = {}\n",
    "for i in prom:\n",
    "    if i[1]=='-999':\n",
    "        m_id = thirdcat_id_map[i[2]]\n",
    "    else:\n",
    "        m_id = [i[1]]\n",
    "\n",
    "    for j in m_id:\n",
    "        if j in id_date_prom:\n",
    "            if isinstance(id_date_prom[j],dict):\n",
    "                id_date_prom[j]['prom'].append(i[0])\n",
    "                id_date_prom[j]['cat'].append(i[3])\n",
    "            else:\n",
    "                id_date_prom[j]={}\n",
    "                id_date_prom[j]['prom'] = [i[0]]\n",
    "                id_date_prom[j]['cat'] = [i[3]]\n",
    "        else:\n",
    "            id_date_prom[j]={}\n",
    "            id_date_prom[j]['prom'] = [i[0]]\n",
    "            id_date_prom[j]['cat'] = [i[3]]\n",
    "            #print (\"i[3]\")\n",
    "            \n",
    "    "
   ]
  },
  {
   "cell_type": "code",
   "execution_count": null,
   "metadata": {},
   "outputs": [],
   "source": []
  },
  {
   "cell_type": "code",
   "execution_count": null,
   "metadata": {},
   "outputs": [],
   "source": []
  },
  {
   "cell_type": "code",
   "execution_count": null,
   "metadata": {},
   "outputs": [],
   "source": []
  }
 ],
 "metadata": {
  "kernelspec": {
   "display_name": "python3.6",
   "language": "python",
   "name": "python3.6"
  },
  "language_info": {
   "codemirror_mode": {
    "name": "ipython",
    "version": 3
   },
   "file_extension": ".py",
   "mimetype": "text/x-python",
   "name": "python",
   "nbconvert_exporter": "python",
   "pygments_lexer": "ipython3",
   "version": "3.6.4"
  }
 },
 "nbformat": 4,
 "nbformat_minor": 2
}
