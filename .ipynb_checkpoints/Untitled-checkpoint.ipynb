{
 "cells": [
  {
   "cell_type": "code",
   "execution_count": 1,
   "metadata": {},
   "outputs": [],
   "source": [
    "import numpy as np # linear algebra\n",
    "import pandas as pd # data processing, CSV file I/O (e.g. pd.read_csv)\n",
    "from subprocess import check_output\n",
    "import sys\n",
    "import csv\n",
    "#####\n",
    "folderAddress = \"input\"\n",
    "#####\n",
    "\n",
    "info = pd.read_csv(folderAddress + \"/sku_info.csv\")\n",
    "\n",
    "# # info 1000 rows x 5 columns id:0-999\n",
    "attr = pd.read_csv(folderAddress + \"/sku_attr.csv\")\n",
    "# # attr  6776 rows x 3 columns\n",
    "sales = pd.read_csv(folderAddress + \"/sku_sales.csv\")\n",
    "# # sales 2127485 rows x 7 columns\n",
    "prom = pd.read_csv(folderAddress + \"/sku_prom.csv\")\n",
    "\n"
   ]
  },
  {
   "cell_type": "code",
   "execution_count": 2,
   "metadata": {},
   "outputs": [
    {
     "data": {
      "text/html": [
       "<div>\n",
       "<style scoped>\n",
       "    .dataframe tbody tr th:only-of-type {\n",
       "        vertical-align: middle;\n",
       "    }\n",
       "\n",
       "    .dataframe tbody tr th {\n",
       "        vertical-align: top;\n",
       "    }\n",
       "\n",
       "    .dataframe thead th {\n",
       "        text-align: right;\n",
       "    }\n",
       "</style>\n",
       "<table border=\"1\" class=\"dataframe\">\n",
       "  <thead>\n",
       "    <tr style=\"text-align: right;\">\n",
       "      <th></th>\n",
       "      <th>item_sku_id</th>\n",
       "      <th>dc_id</th>\n",
       "      <th>date</th>\n",
       "      <th>quantity</th>\n",
       "      <th>vendibility</th>\n",
       "      <th>original_price</th>\n",
       "      <th>discount</th>\n",
       "    </tr>\n",
       "  </thead>\n",
       "  <tbody>\n",
       "    <tr>\n",
       "      <th>0</th>\n",
       "      <td>637</td>\n",
       "      <td>0</td>\n",
       "      <td>2016-10-12</td>\n",
       "      <td>5.0</td>\n",
       "      <td>1.0</td>\n",
       "      <td>0.089886</td>\n",
       "      <td>7.858136</td>\n",
       "    </tr>\n",
       "    <tr>\n",
       "      <th>1</th>\n",
       "      <td>637</td>\n",
       "      <td>0</td>\n",
       "      <td>2017-09-24</td>\n",
       "      <td>1.0</td>\n",
       "      <td>1.0</td>\n",
       "      <td>0.089886</td>\n",
       "      <td>8.191933</td>\n",
       "    </tr>\n",
       "    <tr>\n",
       "      <th>2</th>\n",
       "      <td>637</td>\n",
       "      <td>3</td>\n",
       "      <td>2016-07-01</td>\n",
       "      <td>0.0</td>\n",
       "      <td>1.0</td>\n",
       "      <td>NaN</td>\n",
       "      <td>NaN</td>\n",
       "    </tr>\n",
       "    <tr>\n",
       "      <th>3</th>\n",
       "      <td>637</td>\n",
       "      <td>3</td>\n",
       "      <td>2016-08-03</td>\n",
       "      <td>2.0</td>\n",
       "      <td>1.0</td>\n",
       "      <td>0.089886</td>\n",
       "      <td>8.122392</td>\n",
       "    </tr>\n",
       "    <tr>\n",
       "      <th>4</th>\n",
       "      <td>637</td>\n",
       "      <td>3</td>\n",
       "      <td>2017-05-03</td>\n",
       "      <td>4.0</td>\n",
       "      <td>1.0</td>\n",
       "      <td>0.089886</td>\n",
       "      <td>8.136300</td>\n",
       "    </tr>\n",
       "  </tbody>\n",
       "</table>\n",
       "</div>"
      ],
      "text/plain": [
       "   item_sku_id  dc_id        date  quantity  vendibility  original_price  \\\n",
       "0          637      0  2016-10-12       5.0          1.0        0.089886   \n",
       "1          637      0  2017-09-24       1.0          1.0        0.089886   \n",
       "2          637      3  2016-07-01       0.0          1.0             NaN   \n",
       "3          637      3  2016-08-03       2.0          1.0        0.089886   \n",
       "4          637      3  2017-05-03       4.0          1.0        0.089886   \n",
       "\n",
       "   discount  \n",
       "0  7.858136  \n",
       "1  8.191933  \n",
       "2       NaN  \n",
       "3  8.122392  \n",
       "4  8.136300  "
      ]
     },
     "execution_count": 2,
     "metadata": {},
     "output_type": "execute_result"
    }
   ],
   "source": [
    "sales.iloc[:5]"
   ]
  },
  {
   "cell_type": "code",
   "execution_count": 3,
   "metadata": {},
   "outputs": [],
   "source": [
    "def loadCsv(address):\n",
    "    with open(address) as csvDataFile:\n",
    "        info=[]\n",
    "        csvReader = csv.reader(csvDataFile)\n",
    "        for row in csvReader:\n",
    "            info.append(row)\n",
    "    return info[1:]"
   ]
  },
  {
   "cell_type": "code",
   "execution_count": 4,
   "metadata": {},
   "outputs": [],
   "source": [
    "def deleteCol(a,num):\n",
    "    for row in a :\n",
    "        del row[num]\n",
    "    return a"
   ]
  },
  {
   "cell_type": "code",
   "execution_count": 5,
   "metadata": {},
   "outputs": [],
   "source": [
    "id_brand_cat_map = {}\n",
    "thirdcat_id_map ={}\n",
    "info=[]\n",
    "attr=[]\n",
    "sales=[]\n",
    "prom=[]\n",
    "info = loadCsv(folderAddress + \"/sku_info.csv\")\n",
    "#delete first and second catagory\n",
    "\n",
    "\n",
    "attr = loadCsv(folderAddress + \"/sku_attr.csv\")\n",
    "sales =  loadCsv(folderAddress + \"/sku_sales.csv\")\n",
    "prom = loadCsv(folderAddress + \"/sku_prom.csv\")"
   ]
  },
  {
   "cell_type": "code",
   "execution_count": 6,
   "metadata": {},
   "outputs": [],
   "source": [
    "for i in sales:\n",
    "    for k in info:\n",
    "        if i[0] == k[0]:\n",
    "            i.append(k[2])\n",
    "            break\n"
   ]
  },
  {
   "cell_type": "code",
   "execution_count": 7,
   "metadata": {},
   "outputs": [
    {
     "data": {
      "text/plain": [
       "['3', '7', '29', '144', '1040']"
      ]
     },
     "execution_count": 7,
     "metadata": {},
     "output_type": "execute_result"
    }
   ],
   "source": [
    "def reformatdate(a):\n",
    "    temp = ''\n",
    "    for i in a:\n",
    "        if i=='-':\n",
    "            i='/'\n",
    "        temp = temp+i\n",
    "    return temp"
   ]
  },
  {
   "cell_type": "code",
   "execution_count": null,
   "metadata": {},
   "outputs": [],
   "source": [
    "for i in sales:\n",
    "    for k in prom:\n",
    "        if k[]"
   ]
  },
  {
   "cell_type": "code",
   "execution_count": null,
   "metadata": {},
   "outputs": [],
   "source": []
  }
 ],
 "metadata": {
  "kernelspec": {
   "display_name": "Python 3",
   "language": "python",
   "name": "python3"
  },
  "language_info": {
   "codemirror_mode": {
    "name": "ipython",
    "version": 3
   },
   "file_extension": ".py",
   "mimetype": "text/x-python",
   "name": "python",
   "nbconvert_exporter": "python",
   "pygments_lexer": "ipython3",
   "version": "3.6.1"
  }
 },
 "nbformat": 4,
 "nbformat_minor": 2
}
